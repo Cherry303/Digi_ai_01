{
 "cells": [
  {
   "cell_type": "code",
   "execution_count": 37,
   "metadata": {},
   "outputs": [],
   "source": [
    "from keras.models import Sequential\n",
    "from keras.layers import Convolution2D\n",
    "from keras.layers import MaxPooling2D\n",
    "from keras.layers import Flatten\n",
    "from keras.layers import Dense"
   ]
  },
  {
   "cell_type": "code",
   "execution_count": 38,
   "metadata": {},
   "outputs": [
    {
     "name": "stdout",
     "output_type": "stream",
     "text": [
      "_________________________________________________________________\n",
      "Layer (type)                 Output Shape              Param #   \n",
      "=================================================================\n",
      "conv2d_31 (Conv2D)           (None, 62, 62, 64)        1792      \n",
      "_________________________________________________________________\n",
      "max_pooling2d_31 (MaxPooling (None, 31, 31, 64)        0         \n",
      "_________________________________________________________________\n",
      "conv2d_32 (Conv2D)           (None, 29, 29, 64)        36928     \n",
      "_________________________________________________________________\n",
      "max_pooling2d_32 (MaxPooling (None, 14, 14, 64)        0         \n",
      "_________________________________________________________________\n",
      "flatten_11 (Flatten)         (None, 12544)             0         \n",
      "_________________________________________________________________\n",
      "dense_21 (Dense)             (None, 128)               1605760   \n",
      "_________________________________________________________________\n",
      "dense_22 (Dense)             (None, 1)                 129       \n",
      "=================================================================\n",
      "Total params: 1,644,609\n",
      "Trainable params: 1,644,609\n",
      "Non-trainable params: 0\n",
      "_________________________________________________________________\n"
     ]
    }
   ],
   "source": [
    "classifier = Sequential()\n",
    "\n",
    "# Step 1 - Convolution\n",
    "classifier.add(Convolution2D(64, (3, 3), activation = 'relu', input_shape = (64, 64, 3)))\n",
    "classifier.add(MaxPooling2D(pool_size = (2, 2)))\n",
    "classifier.add(Convolution2D(64, (3, 3), activation = 'relu'))\n",
    "classifier.add(MaxPooling2D(pool_size = (2, 2)))\n",
    "\n",
    "classifier.add(Flatten())\n",
    "classifier.add(Dense(units = 128, activation = 'relu'))\n",
    "classifier.add(Dense(units = 1, activation = 'sigmoid')) #cat and dog\n",
    "\n",
    "classifier.summary()"
   ]
  },
  {
   "cell_type": "code",
   "execution_count": 39,
   "metadata": {},
   "outputs": [],
   "source": [
    "classifier.compile(optimizer = 'adam', loss = 'binary_crossentropy', metrics = ['accuracy'])"
   ]
  },
  {
   "cell_type": "code",
   "execution_count": 40,
   "metadata": {},
   "outputs": [],
   "source": [
    "from keras.preprocessing.image import ImageDataGenerator\n",
    "\n",
    "train_datagen = ImageDataGenerator(\n",
    "    rescale = 1./255,\n",
    "    horizontal_flip = True,\n",
    "    fill_mode = \"nearest\",\n",
    "    zoom_range = 0.3,\n",
    "    width_shift_range = 0.3,\n",
    "    height_shift_range=0.3,\n",
    "    rotation_range=30)\n",
    "\n",
    "test_datagen = ImageDataGenerator(\n",
    "    rescale = 1./255)"
   ]
  },
  {
   "cell_type": "code",
   "execution_count": 41,
   "metadata": {},
   "outputs": [
    {
     "name": "stdout",
     "output_type": "stream",
     "text": [
      "Found 8000 images belonging to 2 classes.\n",
      "Found 2000 images belonging to 2 classes.\n"
     ]
    }
   ],
   "source": [
    "\n",
    "training_set = train_datagen.flow_from_directory('dataset/training_set',\n",
    "                                                 target_size = (64, 64),\n",
    "                                                 batch_size = 32,\n",
    "                                                 class_mode = 'binary')\n",
    "\n",
    "test_set = test_datagen.flow_from_directory('dataset/test_set',\n",
    "                                            target_size = (64, 64),\n",
    "                                            batch_size = 32,\n",
    "                                            class_mode = 'binary')"
   ]
  },
  {
   "cell_type": "code",
   "execution_count": 42,
   "metadata": {},
   "outputs": [],
   "source": [
    "nb_train_samples = 500\n",
    "nb_test_samples = 200 \n",
    "nb_epochs = 50"
   ]
  },
  {
   "cell_type": "code",
   "execution_count": 43,
   "metadata": {
    "scrolled": false
   },
   "outputs": [
    {
     "name": "stdout",
     "output_type": "stream",
     "text": [
      "Epoch 1/50\n",
      "500/500 [==============================] - 98s 196ms/step - loss: 0.6911 - acc: 0.5306 - val_loss: 0.6743 - val_acc: 0.5631\n",
      "Epoch 2/50\n",
      "500/500 [==============================] - 95s 191ms/step - loss: 0.6835 - acc: 0.5588 - val_loss: 0.6645 - val_acc: 0.5924\n",
      "Epoch 3/50\n",
      "500/500 [==============================] - 96s 192ms/step - loss: 0.6761 - acc: 0.5752 - val_loss: 0.6559 - val_acc: 0.6220\n",
      "Epoch 4/50\n",
      "500/500 [==============================] - 98s 195ms/step - loss: 0.6571 - acc: 0.6064 - val_loss: 0.6344 - val_acc: 0.6412\n",
      "Epoch 5/50\n",
      "500/500 [==============================] - 110s 220ms/step - loss: 0.6247 - acc: 0.6461 - val_loss: 0.5822 - val_acc: 0.6877\n",
      "Epoch 6/50\n",
      "500/500 [==============================] - 113s 226ms/step - loss: 0.6171 - acc: 0.6535 - val_loss: 0.6475 - val_acc: 0.6218\n",
      "Epoch 7/50\n",
      "500/500 [==============================] - 99s 198ms/step - loss: 0.6033 - acc: 0.6709 - val_loss: 0.5570 - val_acc: 0.7105\n",
      "Epoch 8/50\n",
      "500/500 [==============================] - 95s 191ms/step - loss: 0.5921 - acc: 0.6784 - val_loss: 0.5926 - val_acc: 0.6699\n",
      "Epoch 9/50\n",
      "500/500 [==============================] - 94s 187ms/step - loss: 0.5802 - acc: 0.6931 - val_loss: 0.5298 - val_acc: 0.7352\n",
      "Epoch 10/50\n",
      "500/500 [==============================] - 94s 188ms/step - loss: 0.5670 - acc: 0.6976 - val_loss: 0.5612 - val_acc: 0.7176\n",
      "Epoch 11/50\n",
      "500/500 [==============================] - 94s 187ms/step - loss: 0.5628 - acc: 0.7088 - val_loss: 0.5263 - val_acc: 0.7308\n",
      "Epoch 12/50\n",
      "500/500 [==============================] - 94s 188ms/step - loss: 0.5514 - acc: 0.7149 - val_loss: 0.5317 - val_acc: 0.7360\n",
      "Epoch 13/50\n",
      "500/500 [==============================] - 94s 187ms/step - loss: 0.5568 - acc: 0.7126 - val_loss: 0.5326 - val_acc: 0.7328\n",
      "Epoch 14/50\n",
      "500/500 [==============================] - 94s 187ms/step - loss: 0.5462 - acc: 0.7171 - val_loss: 0.4921 - val_acc: 0.7555\n",
      "Epoch 15/50\n",
      "500/500 [==============================] - 94s 189ms/step - loss: 0.5400 - acc: 0.7258 - val_loss: 0.5001 - val_acc: 0.7484\n",
      "Epoch 16/50\n",
      "500/500 [==============================] - 94s 187ms/step - loss: 0.5418 - acc: 0.7251 - val_loss: 0.4847 - val_acc: 0.7665\n",
      "Epoch 17/50\n",
      "500/500 [==============================] - 94s 188ms/step - loss: 0.5325 - acc: 0.7273 - val_loss: 0.4883 - val_acc: 0.7621\n",
      "Epoch 18/50\n",
      "500/500 [==============================] - 94s 187ms/step - loss: 0.5277 - acc: 0.7286 - val_loss: 0.5229 - val_acc: 0.7388\n",
      "Epoch 19/50\n",
      "500/500 [==============================] - 94s 188ms/step - loss: 0.5233 - acc: 0.7378 - val_loss: 0.4707 - val_acc: 0.7672\n",
      "Epoch 20/50\n",
      "500/500 [==============================] - 94s 187ms/step - loss: 0.5153 - acc: 0.7389 - val_loss: 0.4715 - val_acc: 0.7711\n",
      "Epoch 21/50\n",
      "500/500 [==============================] - 94s 189ms/step - loss: 0.5134 - acc: 0.7441 - val_loss: 0.4778 - val_acc: 0.7681\n",
      "Epoch 22/50\n",
      "500/500 [==============================] - 94s 188ms/step - loss: 0.5101 - acc: 0.7444 - val_loss: 0.4857 - val_acc: 0.7632\n",
      "Epoch 23/50\n",
      "500/500 [==============================] - 94s 187ms/step - loss: 0.5066 - acc: 0.7509 - val_loss: 0.4480 - val_acc: 0.7820\n",
      "Epoch 24/50\n",
      "500/500 [==============================] - 94s 188ms/step - loss: 0.5026 - acc: 0.7532 - val_loss: 0.4576 - val_acc: 0.7783\n",
      "Epoch 25/50\n",
      "500/500 [==============================] - 94s 188ms/step - loss: 0.5031 - acc: 0.7541 - val_loss: 0.4451 - val_acc: 0.7930\n",
      "Epoch 26/50\n",
      "500/500 [==============================] - 94s 188ms/step - loss: 0.5015 - acc: 0.7534 - val_loss: 0.4437 - val_acc: 0.7911\n",
      "Epoch 27/50\n",
      "500/500 [==============================] - 94s 188ms/step - loss: 0.4940 - acc: 0.7594 - val_loss: 0.4574 - val_acc: 0.7840\n",
      "Epoch 28/50\n",
      "500/500 [==============================] - 94s 189ms/step - loss: 0.4917 - acc: 0.7589 - val_loss: 0.4460 - val_acc: 0.7997\n",
      "Epoch 29/50\n",
      "500/500 [==============================] - 94s 189ms/step - loss: 0.4888 - acc: 0.7607 - val_loss: 0.4843 - val_acc: 0.7634\n",
      "Epoch 30/50\n",
      "500/500 [==============================] - 94s 188ms/step - loss: 0.4847 - acc: 0.7658 - val_loss: 0.4321 - val_acc: 0.8031\n",
      "Epoch 31/50\n",
      "500/500 [==============================] - 94s 188ms/step - loss: 0.4868 - acc: 0.7588 - val_loss: 0.4366 - val_acc: 0.7993\n",
      "Epoch 32/50\n",
      "500/500 [==============================] - 94s 189ms/step - loss: 0.4777 - acc: 0.7683 - val_loss: 0.4345 - val_acc: 0.7988\n",
      "Epoch 33/50\n",
      "500/500 [==============================] - 94s 189ms/step - loss: 0.4745 - acc: 0.7721 - val_loss: 0.4433 - val_acc: 0.7957\n",
      "Epoch 34/50\n",
      "500/500 [==============================] - 94s 188ms/step - loss: 0.4758 - acc: 0.7686 - val_loss: 0.4424 - val_acc: 0.7975\n",
      "Epoch 35/50\n",
      "500/500 [==============================] - 94s 189ms/step - loss: 0.4749 - acc: 0.7710 - val_loss: 0.4513 - val_acc: 0.7830\n",
      "Epoch 36/50\n",
      "500/500 [==============================] - 94s 188ms/step - loss: 0.4690 - acc: 0.7746 - val_loss: 0.4419 - val_acc: 0.7996\n",
      "Epoch 37/50\n",
      "500/500 [==============================] - 94s 188ms/step - loss: 0.4678 - acc: 0.7744 - val_loss: 0.4251 - val_acc: 0.8071\n",
      "Epoch 38/50\n",
      "500/500 [==============================] - 94s 189ms/step - loss: 0.4638 - acc: 0.7763 - val_loss: 0.4657 - val_acc: 0.7872\n",
      "Epoch 39/50\n",
      "500/500 [==============================] - 94s 188ms/step - loss: 0.4666 - acc: 0.7749 - val_loss: 0.4112 - val_acc: 0.8133\n",
      "Epoch 40/50\n",
      "500/500 [==============================] - 95s 190ms/step - loss: 0.4607 - acc: 0.7742 - val_loss: 0.4357 - val_acc: 0.8031\n",
      "Epoch 41/50\n",
      "500/500 [==============================] - 94s 188ms/step - loss: 0.4594 - acc: 0.7782 - val_loss: 0.4141 - val_acc: 0.8106\n",
      "Epoch 42/50\n",
      "500/500 [==============================] - 94s 188ms/step - loss: 0.4590 - acc: 0.7802 - val_loss: 0.4037 - val_acc: 0.8156\n",
      "Epoch 43/50\n",
      "500/500 [==============================] - 94s 189ms/step - loss: 0.4553 - acc: 0.7821 - val_loss: 0.5229 - val_acc: 0.7360\n",
      "Epoch 44/50\n",
      "500/500 [==============================] - 94s 189ms/step - loss: 0.4516 - acc: 0.7852 - val_loss: 0.4283 - val_acc: 0.8040\n",
      "Epoch 45/50\n",
      "500/500 [==============================] - 94s 189ms/step - loss: 0.4480 - acc: 0.7864 - val_loss: 0.4101 - val_acc: 0.8158\n",
      "Epoch 46/50\n",
      "500/500 [==============================] - 94s 188ms/step - loss: 0.4513 - acc: 0.7868 - val_loss: 0.3915 - val_acc: 0.8223\n",
      "Epoch 47/50\n",
      "500/500 [==============================] - 94s 188ms/step - loss: 0.4449 - acc: 0.7904 - val_loss: 0.4122 - val_acc: 0.8090\n",
      "Epoch 48/50\n",
      "500/500 [==============================] - 94s 188ms/step - loss: 0.4412 - acc: 0.7902 - val_loss: 0.4629 - val_acc: 0.7771\n",
      "Epoch 49/50\n",
      "500/500 [==============================] - 94s 187ms/step - loss: 0.4387 - acc: 0.7922 - val_loss: 0.4115 - val_acc: 0.8075\n",
      "Epoch 50/50\n",
      "500/500 [==============================] - 94s 188ms/step - loss: 0.4378 - acc: 0.7942 - val_loss: 0.3774 - val_acc: 0.8366\n"
     ]
    },
    {
     "data": {
      "text/plain": [
       "<keras.callbacks.History at 0x19b371bdeb8>"
      ]
     },
     "execution_count": 43,
     "metadata": {},
     "output_type": "execute_result"
    }
   ],
   "source": [
    "classifier.fit_generator(training_set,\n",
    "                         steps_per_epoch= nb_train_samples,\n",
    "                         epochs = nb_epochs,\n",
    "                         validation_data = test_set,\n",
    "                         validation_steps= nb_test_samples)"
   ]
  },
  {
   "cell_type": "code",
   "execution_count": 67,
   "metadata": {},
   "outputs": [],
   "source": [
    "import numpy as np\n",
    "from keras.preprocessing import image\n",
    "img1 = image.load_img('dataset/test/cat_or_dog_1.jpg',target_size=(64,64))\n",
    "img2 = image.load_img('dataset/test/cat_or_dog_2.jpg',target_size=(64,64))"
   ]
  },
  {
   "cell_type": "code",
   "execution_count": 57,
   "metadata": {},
   "outputs": [
    {
     "data": {
      "image/png": "[encoded data removed]",
      "text/plain": [
       "<PIL.Image.Image image mode=RGB size=64x64 at 0x19B40EEE5F8>"
      ]
     },
     "execution_count": 57,
     "metadata": {},
     "output_type": "execute_result"
    }
   ],
   "source": [
    "img1"
   ]
  },
  {
   "cell_type": "code",
   "execution_count": 68,
   "metadata": {},
   "outputs": [
    {
     "data": {
      "image/png": "[encoded data removed]",
      "text/plain": [
       "<PIL.Image.Image image mode=RGB size=64x64 at 0x19B3CACE4A8>"
      ]
     },
     "execution_count": 68,
     "metadata": {},
     "output_type": "execute_result"
    }
   ],
   "source": [
    "img2"
   ]
  },
  {
   "cell_type": "code",
   "execution_count": 61,
   "metadata": {},
   "outputs": [
    {
     "data": {
      "text/plain": [
       "array([[1]])"
      ]
     },
     "execution_count": 61,
     "metadata": {},
     "output_type": "execute_result"
    }
   ],
   "source": [
    "img1 = image.img_to_array(img1)\n",
    "img1 = np.expand_dims(img1, axis = 0)\n",
    "classifier.predict_classes(img1)"
   ]
  },
  {
   "cell_type": "code",
   "execution_count": 69,
   "metadata": {},
   "outputs": [
    {
     "data": {
      "text/plain": [
       "array([[0]])"
      ]
     },
     "execution_count": 69,
     "metadata": {},
     "output_type": "execute_result"
    }
   ],
   "source": [
    "img2 = image.img_to_array(img2)\n",
    "img2 = np.expand_dims(img2, axis = 0)\n",
    "classifier.predict_classes(img2)"
   ]
  }
 ],
 "metadata": {
  "kernelspec": {
   "display_name": "Python 3",
   "language": "python",
   "name": "python3"
  },
  "language_info": {
   "codemirror_mode": {
    "name": "ipython",
    "version": 3
   },
   "file_extension": ".py",
   "mimetype": "text/x-python",
   "name": "python",
   "nbconvert_exporter": "python",
   "pygments_lexer": "ipython3",
   "version": "3.7.3"
  }
 },
 "nbformat": 4,
 "nbformat_minor": 2
}
